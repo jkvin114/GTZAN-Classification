{
 "cells": [
  {
   "cell_type": "code",
   "execution_count": 1,
   "metadata": {},
   "outputs": [],
   "source": [
    "from model.cnn import ConvNet\n",
    "from model.train import train\n",
    "\n",
    "import torch.optim as optim\n",
    "\n",
    "from PIL import Image\n",
    "from model.cnn import ConvNet\n",
    "\n",
    "from model.dataloader import load_data\n",
    "from model.train import train\n",
    "import torch\n",
    "import matplotlib.pyplot as plt"
   ]
  },
  {
   "cell_type": "markdown",
   "metadata": {},
   "source": [
    "### Load GTZAN data\n",
    "\n",
    "The \"Data\" folder should be placed at \"dataset\" directory"
   ]
  },
  {
   "cell_type": "code",
   "execution_count": 2,
   "metadata": {},
   "outputs": [
    {
     "name": "stdout",
     "output_type": "stream",
     "text": [
      "999\n"
     ]
    },
    {
     "name": "stderr",
     "output_type": "stream",
     "text": [
      "c:\\Users\\iu889\\source\\repos\\GTZAN Classification\\model\\dataloader.py:58: UserWarning: Creating a tensor from a list of numpy.ndarrays is extremely slow. Please consider converting the list to a single numpy.ndarray with numpy.array() before converting to a tensor. (Triggered internally at ..\\torch\\csrc\\utils\\tensor_new.cpp:248.)\n",
      "  torch_X_train = torch.FloatTensor(X_train)\n"
     ]
    },
    {
     "name": "stdout",
     "output_type": "stream",
     "text": [
      "Train shape:\n",
      "torch.Size([849, 3, 128, 128])\n",
      "Val shape:\n",
      "torch.Size([75, 3, 128, 128])\n",
      "Test shape:\n",
      "torch.Size([75, 3, 128, 128])\n"
     ]
    }
   ],
   "source": [
    "\n",
    "dataloader=load_data()\n"
   ]
  },
  {
   "cell_type": "code",
   "execution_count": 3,
   "metadata": {},
   "outputs": [],
   "source": [
    "import os\n",
    "def save_checkpoint(model):\n",
    "    \"\"\"save model checkpoint\"\"\"\n",
    "    model_out_path = \"trained/model.pth\"\n",
    "    state = {\"epoch\": 0 ,\"model\": model}\n",
    "    if not os.path.exists(\"trained/\"):\n",
    "        os.makedirs(\"trained/\")\n",
    "\n",
    "    torch.save(state, model_out_path)\n",
    "        \n",
    "    print(\"Checkpoint saved to {}\".format(model_out_path))\n",
    "    return model_out_path\n",
    "\n"
   ]
  },
  {
   "cell_type": "code",
   "execution_count": 3,
   "metadata": {},
   "outputs": [
    {
     "name": "stdout",
     "output_type": "stream",
     "text": [
      "epoch0\n",
      "Training accuracy:\n",
      "Got 18 / 128 correct (14.06)\n",
      "Validation accuracy:\n",
      "Iteration 0, loss = 2.3072\n",
      "Got 5 / 75 correct (6.67)\n",
      "\n",
      "epoch1\n",
      "Training accuracy:\n",
      "Got 37 / 128 correct (28.91)\n",
      "Validation accuracy:\n",
      "Iteration 0, loss = 2.1594\n",
      "Got 11 / 75 correct (14.67)\n",
      "\n",
      "epoch2\n",
      "Training accuracy:\n",
      "Got 53 / 128 correct (41.41)\n",
      "Validation accuracy:\n",
      "Iteration 0, loss = 2.0011\n",
      "Got 20 / 75 correct (26.67)\n",
      "\n",
      "epoch3\n",
      "Training accuracy:\n",
      "Got 60 / 128 correct (46.88)\n",
      "Validation accuracy:\n",
      "Iteration 0, loss = 1.7652\n",
      "Got 25 / 75 correct (33.33)\n",
      "\n",
      "epoch4\n",
      "Training accuracy:\n",
      "Got 56 / 128 correct (43.75)\n",
      "Validation accuracy:\n",
      "Iteration 0, loss = 1.6645\n",
      "Got 28 / 75 correct (37.33)\n",
      "\n",
      "epoch5\n",
      "Training accuracy:\n",
      "Got 74 / 128 correct (57.81)\n",
      "Validation accuracy:\n",
      "Iteration 0, loss = 1.4695\n",
      "Got 29 / 75 correct (38.67)\n",
      "\n",
      "epoch6\n",
      "Training accuracy:\n",
      "Got 79 / 128 correct (61.72)\n",
      "Validation accuracy:\n",
      "Iteration 0, loss = 1.2982\n",
      "Got 30 / 75 correct (40.00)\n",
      "\n",
      "epoch7\n",
      "Training accuracy:\n",
      "Got 89 / 128 correct (69.53)\n",
      "Validation accuracy:\n",
      "Iteration 0, loss = 1.1643\n",
      "Got 33 / 75 correct (44.00)\n",
      "\n",
      "epoch8\n",
      "Training accuracy:\n",
      "Got 84 / 128 correct (65.62)\n",
      "Validation accuracy:\n",
      "Iteration 0, loss = 1.1544\n",
      "Got 34 / 75 correct (45.33)\n",
      "\n",
      "epoch9\n",
      "Training accuracy:\n",
      "Got 105 / 128 correct (82.03)\n",
      "Validation accuracy:\n",
      "Iteration 0, loss = 0.9507\n",
      "Got 40 / 75 correct (53.33)\n",
      "\n",
      "epoch10\n",
      "Training accuracy:\n",
      "Got 105 / 128 correct (82.03)\n",
      "Validation accuracy:\n",
      "Iteration 0, loss = 0.8311\n",
      "Got 44 / 75 correct (58.67)\n",
      "\n",
      "epoch11\n",
      "Training accuracy:\n",
      "Got 100 / 128 correct (78.12)\n",
      "Validation accuracy:\n",
      "Iteration 0, loss = 0.8298\n",
      "Got 43 / 75 correct (57.33)\n",
      "\n",
      "epoch12\n",
      "Training accuracy:\n",
      "Got 114 / 128 correct (89.06)\n",
      "Validation accuracy:\n",
      "Iteration 0, loss = 0.5775\n",
      "Got 37 / 75 correct (49.33)\n",
      "\n",
      "epoch13\n",
      "Training accuracy:\n",
      "Got 115 / 128 correct (89.84)\n",
      "Validation accuracy:\n",
      "Iteration 0, loss = 0.5333\n",
      "Got 43 / 75 correct (57.33)\n",
      "\n",
      "epoch14\n",
      "Training accuracy:\n",
      "Got 120 / 128 correct (93.75)\n",
      "Validation accuracy:\n",
      "Iteration 0, loss = 0.4398\n",
      "Got 37 / 75 correct (49.33)\n",
      "\n",
      "epoch15\n",
      "Training accuracy:\n",
      "Got 123 / 128 correct (96.09)\n",
      "Validation accuracy:\n",
      "Iteration 0, loss = 0.3116\n",
      "Got 45 / 75 correct (60.00)\n",
      "\n",
      "epoch16\n",
      "Training accuracy:\n",
      "Got 125 / 128 correct (97.66)\n",
      "Validation accuracy:\n",
      "Iteration 0, loss = 0.2632\n",
      "Got 45 / 75 correct (60.00)\n",
      "\n",
      "epoch17\n",
      "Training accuracy:\n",
      "Got 127 / 128 correct (99.22)\n",
      "Validation accuracy:\n",
      "Iteration 0, loss = 0.2206\n",
      "Got 44 / 75 correct (58.67)\n",
      "\n",
      "epoch18\n",
      "Training accuracy:\n",
      "Got 128 / 128 correct (100.00)\n",
      "Validation accuracy:\n",
      "Iteration 0, loss = 0.1555\n",
      "Got 44 / 75 correct (58.67)\n",
      "\n",
      "epoch19\n",
      "Training accuracy:\n",
      "Got 125 / 128 correct (97.66)\n",
      "Validation accuracy:\n",
      "Iteration 0, loss = 0.1610\n",
      "Got 44 / 75 correct (58.67)\n",
      "\n",
      "epoch20\n",
      "Training accuracy:\n",
      "Got 127 / 128 correct (99.22)\n",
      "Validation accuracy:\n",
      "Iteration 0, loss = 0.1487\n",
      "Got 47 / 75 correct (62.67)\n",
      "\n",
      "epoch21\n",
      "Training accuracy:\n",
      "Got 128 / 128 correct (100.00)\n",
      "Validation accuracy:\n",
      "Iteration 0, loss = 0.0890\n",
      "Got 46 / 75 correct (61.33)\n",
      "\n",
      "epoch22\n",
      "Training accuracy:\n",
      "Got 127 / 128 correct (99.22)\n",
      "Validation accuracy:\n",
      "Iteration 0, loss = 0.0896\n",
      "Got 47 / 75 correct (62.67)\n",
      "\n",
      "epoch23\n",
      "Training accuracy:\n",
      "Got 128 / 128 correct (100.00)\n",
      "Validation accuracy:\n",
      "Iteration 0, loss = 0.0557\n",
      "Got 45 / 75 correct (60.00)\n",
      "\n",
      "epoch24\n",
      "Training accuracy:\n",
      "Got 128 / 128 correct (100.00)\n",
      "Validation accuracy:\n",
      "Iteration 0, loss = 0.0518\n",
      "Got 42 / 75 correct (56.00)\n",
      "\n",
      "epoch25\n",
      "Training accuracy:\n",
      "Got 128 / 128 correct (100.00)\n",
      "Validation accuracy:\n",
      "Iteration 0, loss = 0.0474\n",
      "Got 46 / 75 correct (61.33)\n",
      "\n",
      "epoch26\n",
      "Training accuracy:\n",
      "Got 128 / 128 correct (100.00)\n",
      "Validation accuracy:\n",
      "Iteration 0, loss = 0.0439\n",
      "Got 45 / 75 correct (60.00)\n",
      "\n",
      "epoch27\n",
      "Training accuracy:\n",
      "Got 128 / 128 correct (100.00)\n",
      "Validation accuracy:\n",
      "Iteration 0, loss = 0.0339\n",
      "Got 46 / 75 correct (61.33)\n",
      "\n",
      "epoch28\n",
      "Training accuracy:\n",
      "Got 128 / 128 correct (100.00)\n",
      "Validation accuracy:\n",
      "Iteration 0, loss = 0.0306\n",
      "Got 47 / 75 correct (62.67)\n",
      "\n",
      "epoch29\n",
      "Training accuracy:\n",
      "Got 128 / 128 correct (100.00)\n",
      "Validation accuracy:\n",
      "Iteration 0, loss = 0.0286\n",
      "Got 44 / 75 correct (58.67)\n",
      "\n"
     ]
    }
   ],
   "source": [
    "model=ConvNet()\n",
    "optimizer  = optim.Adam(model.parameters(), lr=1e-4,weight_decay=1e-3)\n",
    "losses,acc=train(model,optimizer,dataloader,epochs=30)"
   ]
  },
  {
   "cell_type": "code",
   "execution_count": 4,
   "metadata": {},
   "outputs": [
    {
     "name": "stdout",
     "output_type": "stream",
     "text": [
      "Got 44 / 75 correct (58.67)\n"
     ]
    },
    {
     "data": {
      "text/plain": [
       "0.5866666666666667"
      ]
     },
     "execution_count": 4,
     "metadata": {},
     "output_type": "execute_result"
    }
   ],
   "source": [
    "from model.train import check_accuracy\n",
    "check_accuracy(dataloader[\"test\"],model)"
   ]
  },
  {
   "cell_type": "code",
   "execution_count": 5,
   "metadata": {},
   "outputs": [
    {
     "data": {
      "image/png": "[encoded data removed]",
      "text/plain": [
       "<Figure size 432x288 with 1 Axes>"
      ]
     },
     "metadata": {
      "needs_background": "light"
     },
     "output_type": "display_data"
    }
   ],
   "source": [
    "\n",
    "\n",
    "plt.plot(losses)\n",
    "plt.show()"
   ]
  },
  {
   "cell_type": "markdown",
   "metadata": {},
   "source": []
  },
  {
   "cell_type": "markdown",
   "metadata": {},
   "source": [
    "### Save model to file"
   ]
  },
  {
   "cell_type": "code",
   "execution_count": 19,
   "metadata": {},
   "outputs": [
    {
     "name": "stdout",
     "output_type": "stream",
     "text": [
      "Checkpoint saved to trained/model.pth\n"
     ]
    },
    {
     "data": {
      "text/plain": [
       "'trained/model.pth'"
      ]
     },
     "execution_count": 19,
     "metadata": {},
     "output_type": "execute_result"
    }
   ],
   "source": [
    "save_checkpoint(model)"
   ]
  },
  {
   "cell_type": "markdown",
   "metadata": {},
   "source": [
    "### Load model and test"
   ]
  },
  {
   "cell_type": "code",
   "execution_count": 7,
   "metadata": {},
   "outputs": [
    {
     "name": "stdout",
     "output_type": "stream",
     "text": [
      "Got 50 / 75 correct (66.67)\n"
     ]
    },
    {
     "data": {
      "text/plain": [
       "0.6666666666666666"
      ]
     },
     "execution_count": 7,
     "metadata": {},
     "output_type": "execute_result"
    }
   ],
   "source": [
    "from model.train import check_accuracy\n",
    "model = torch.load(\"trained/best_model.pth\", map_location=lambda storage, location: storage)[\"model\"]\n",
    "check_accuracy(dataloader[\"test\"],model)\n"
   ]
  }
 ],
 "metadata": {
  "kernelspec": {
   "display_name": "Python 3",
   "language": "python",
   "name": "python3"
  },
  "language_info": {
   "codemirror_mode": {
    "name": "ipython",
    "version": 3
   },
   "file_extension": ".py",
   "mimetype": "text/x-python",
   "name": "python",
   "nbconvert_exporter": "python",
   "pygments_lexer": "ipython3",
   "version": "3.10.13"
  }
 },
 "nbformat": 4,
 "nbformat_minor": 2
}

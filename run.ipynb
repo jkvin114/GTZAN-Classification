{
 "cells": [
  {
   "cell_type": "code",
   "execution_count": 17,
   "metadata": {},
   "outputs": [],
   "source": [
    "from model.cnn import ConvNet\n",
    "from model.train import train\n",
    "\n",
    "import torch.optim as optim\n",
    "\n",
    "from PIL import Image\n",
    "from model.cnn import ConvNet\n",
    "\n",
    "from model.dataloader import load_data\n",
    "from model.train import train\n",
    "import torch"
   ]
  },
  {
   "cell_type": "markdown",
   "metadata": {},
   "source": [
    "### Load GTZAN data\n",
    "\n",
    "The \"Data\" folder should be placed at \"dataset\" directory"
   ]
  },
  {
   "cell_type": "code",
   "execution_count": 18,
   "metadata": {},
   "outputs": [
    {
     "name": "stdout",
     "output_type": "stream",
     "text": [
      "999\n",
      "Train shape:\n",
      "torch.Size([799, 3, 128, 128])\n",
      "Val shape:\n",
      "torch.Size([50, 3, 128, 128])\n",
      "Test shape:\n",
      "torch.Size([150, 3, 128, 128])\n"
     ]
    }
   ],
   "source": [
    "\n",
    "dataloader=load_data()\n"
   ]
  },
  {
   "cell_type": "code",
   "execution_count": 3,
   "metadata": {},
   "outputs": [],
   "source": [
    "import os\n",
    "def save_checkpoint(model):\n",
    "    \"\"\"save model checkpoint\"\"\"\n",
    "    model_out_path = \"trained/model.pth\"\n",
    "    state = {\"epoch\": 0 ,\"model\": model}\n",
    "    if not os.path.exists(\"trained/\"):\n",
    "        os.makedirs(\"trained/\")\n",
    "\n",
    "    torch.save(state, model_out_path)\n",
    "        \n",
    "    print(\"Checkpoint saved to {}\".format(model_out_path))\n",
    "    return model_out_path\n",
    "\n"
   ]
  },
  {
   "cell_type": "code",
   "execution_count": 14,
   "metadata": {},
   "outputs": [
    {
     "name": "stdout",
     "output_type": "stream",
     "text": [
      "epoch0\n",
      "Iteration 0, loss = 2.2971\n",
      "Got 7 / 50 correct (14.00)\n",
      "\n",
      "Iteration 10, loss = 1.9001\n",
      "Got 8 / 50 correct (16.00)\n",
      "\n",
      "epoch1\n",
      "Iteration 0, loss = 1.6077\n",
      "Got 4 / 50 correct (8.00)\n",
      "\n",
      "Iteration 10, loss = 1.3272\n",
      "Got 17 / 50 correct (34.00)\n",
      "\n",
      "epoch2\n",
      "Iteration 0, loss = 1.2194\n",
      "Got 15 / 50 correct (30.00)\n",
      "\n",
      "Iteration 10, loss = 1.1714\n",
      "Got 20 / 50 correct (40.00)\n",
      "\n",
      "epoch3\n",
      "Iteration 0, loss = 1.0610\n",
      "Got 21 / 50 correct (42.00)\n",
      "\n",
      "Iteration 10, loss = 1.4605\n",
      "Got 20 / 50 correct (40.00)\n",
      "\n",
      "epoch4\n",
      "Iteration 0, loss = 1.1057\n",
      "Got 11 / 50 correct (22.00)\n",
      "\n",
      "Iteration 10, loss = 0.8411\n",
      "Got 26 / 50 correct (52.00)\n",
      "\n",
      "epoch5\n",
      "Iteration 0, loss = 0.9727\n",
      "Got 27 / 50 correct (54.00)\n",
      "\n",
      "Iteration 10, loss = 0.9076\n",
      "Got 12 / 50 correct (24.00)\n",
      "\n",
      "epoch6\n",
      "Iteration 0, loss = 0.6943\n",
      "Got 17 / 50 correct (34.00)\n",
      "\n",
      "Iteration 10, loss = 0.9155\n",
      "Got 11 / 50 correct (22.00)\n",
      "\n",
      "epoch7\n",
      "Iteration 0, loss = 0.5614\n",
      "Got 22 / 50 correct (44.00)\n",
      "\n",
      "Iteration 10, loss = 0.6327\n",
      "Got 24 / 50 correct (48.00)\n",
      "\n",
      "epoch8\n",
      "Iteration 0, loss = 0.3690\n",
      "Got 22 / 50 correct (44.00)\n",
      "\n",
      "Iteration 10, loss = 0.3470\n",
      "Got 20 / 50 correct (40.00)\n",
      "\n",
      "epoch9\n",
      "Iteration 0, loss = 0.1885\n",
      "Got 25 / 50 correct (50.00)\n",
      "\n",
      "Iteration 10, loss = 0.2638\n",
      "Got 13 / 50 correct (26.00)\n",
      "\n",
      "epoch10\n",
      "Iteration 0, loss = 0.1323\n",
      "Got 18 / 50 correct (36.00)\n",
      "\n",
      "Iteration 10, loss = 0.1972\n",
      "Got 23 / 50 correct (46.00)\n",
      "\n",
      "epoch11\n",
      "Iteration 0, loss = 0.2775\n",
      "Got 12 / 50 correct (24.00)\n",
      "\n",
      "Iteration 10, loss = 0.3584\n",
      "Got 23 / 50 correct (46.00)\n",
      "\n",
      "epoch12\n",
      "Iteration 0, loss = 0.1378\n",
      "Got 26 / 50 correct (52.00)\n",
      "\n",
      "Iteration 10, loss = 0.1282\n",
      "Got 20 / 50 correct (40.00)\n",
      "\n",
      "epoch13\n",
      "Iteration 0, loss = 0.0306\n",
      "Got 22 / 50 correct (44.00)\n",
      "\n",
      "Iteration 10, loss = 0.1783\n",
      "Got 18 / 50 correct (36.00)\n",
      "\n",
      "epoch14\n",
      "Iteration 0, loss = 0.1562\n",
      "Got 15 / 50 correct (30.00)\n",
      "\n",
      "Iteration 10, loss = 0.0599\n",
      "Got 22 / 50 correct (44.00)\n",
      "\n",
      "epoch15\n",
      "Iteration 0, loss = 0.0693\n",
      "Got 23 / 50 correct (46.00)\n",
      "\n",
      "Iteration 10, loss = 0.1722\n",
      "Got 29 / 50 correct (58.00)\n",
      "\n",
      "epoch16\n",
      "Iteration 0, loss = 0.0059\n",
      "Got 27 / 50 correct (54.00)\n",
      "\n",
      "Iteration 10, loss = 0.0641\n",
      "Got 21 / 50 correct (42.00)\n",
      "\n",
      "epoch17\n",
      "Iteration 0, loss = 0.0769\n",
      "Got 25 / 50 correct (50.00)\n",
      "\n",
      "Iteration 10, loss = 0.0327\n",
      "Got 25 / 50 correct (50.00)\n",
      "\n",
      "epoch18\n",
      "Iteration 0, loss = 0.0382\n",
      "Got 29 / 50 correct (58.00)\n",
      "\n",
      "Iteration 10, loss = 0.0194\n",
      "Got 31 / 50 correct (62.00)\n",
      "\n",
      "epoch19\n",
      "Iteration 0, loss = 0.0094\n",
      "Got 20 / 50 correct (40.00)\n",
      "\n",
      "Iteration 10, loss = 0.0128\n",
      "Got 32 / 50 correct (64.00)\n",
      "\n"
     ]
    }
   ],
   "source": [
    "model=ConvNet()\n",
    "optimizer  = optim.Adam(model.parameters(), lr=1e-3,weight_decay=1e-3)\n",
    "losses,acc=train(model,optimizer,dataloader,epochs=20)"
   ]
  },
  {
   "cell_type": "code",
   "execution_count": 15,
   "metadata": {},
   "outputs": [
    {
     "name": "stdout",
     "output_type": "stream",
     "text": [
      "Got 88 / 150 correct (58.67)\n"
     ]
    },
    {
     "data": {
      "text/plain": [
       "0.5866666666666667"
      ]
     },
     "execution_count": 15,
     "metadata": {},
     "output_type": "execute_result"
    }
   ],
   "source": [
    "from model.train import check_accuracy\n",
    "check_accuracy(dataloader[\"test\"],model)"
   ]
  },
  {
   "cell_type": "code",
   "execution_count": 12,
   "metadata": {},
   "outputs": [
    {
     "data": {
      "image/png": "[encoded data removed]",
      "text/plain": [
       "<Figure size 432x288 with 1 Axes>"
      ]
     },
     "metadata": {
      "needs_background": "light"
     },
     "output_type": "display_data"
    }
   ],
   "source": [
    "import matplotlib.pyplot as plt\n",
    "\n",
    "plt.plot(losses)\n",
    "plt.show()"
   ]
  },
  {
   "cell_type": "markdown",
   "metadata": {},
   "source": [
    "### Save model to file"
   ]
  },
  {
   "cell_type": "code",
   "execution_count": 19,
   "metadata": {},
   "outputs": [
    {
     "name": "stdout",
     "output_type": "stream",
     "text": [
      "Checkpoint saved to trained/model.pth\n"
     ]
    },
    {
     "data": {
      "text/plain": [
       "'trained/model.pth'"
      ]
     },
     "execution_count": 19,
     "metadata": {},
     "output_type": "execute_result"
    }
   ],
   "source": [
    "save_checkpoint(model)"
   ]
  },
  {
   "cell_type": "markdown",
   "metadata": {},
   "source": [
    "### Load model and test"
   ]
  },
  {
   "cell_type": "code",
   "execution_count": 20,
   "metadata": {},
   "outputs": [
    {
     "name": "stdout",
     "output_type": "stream",
     "text": [
      "Got 88 / 150 correct (58.67)\n"
     ]
    },
    {
     "data": {
      "text/plain": [
       "0.5866666666666667"
      ]
     },
     "execution_count": 20,
     "metadata": {},
     "output_type": "execute_result"
    }
   ],
   "source": [
    "from model.train import check_accuracy\n",
    "model = torch.load(\"trained/model.pth\", map_location=lambda storage, location: storage)[\"model\"]\n",
    "check_accuracy(dataloader[\"test\"],model)\n"
   ]
  }
 ],
 "metadata": {
  "kernelspec": {
   "display_name": "Python 3",
   "language": "python",
   "name": "python3"
  },
  "language_info": {
   "codemirror_mode": {
    "name": "ipython",
    "version": 3
   },
   "file_extension": ".py",
   "mimetype": "text/x-python",
   "name": "python",
   "nbconvert_exporter": "python",
   "pygments_lexer": "ipython3",
   "version": "3.10.13"
  }
 },
 "nbformat": 4,
 "nbformat_minor": 2
}
